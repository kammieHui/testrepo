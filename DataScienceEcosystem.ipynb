{
 "cells": [
  {
   "cell_type": "markdown",
   "id": "63a2fd0c-6bc0-4bfd-8210-1d27d5f6ac1f",
   "metadata": {},
   "source": [
    "# Data Science Tools and Ecosystem"
   ]
  },
  {
   "cell_type": "markdown",
   "id": "126662b8-6e41-4b41-bcc2-0cd794c44917",
   "metadata": {},
   "source": [
    "#### In this notebook, Data Science Tools and Ecosystem are summarized."
   ]
  },
  {
   "cell_type": "markdown",
   "id": "e838db18-e573-47c7-8252-5df92c621724",
   "metadata": {},
   "source": [
    "#### Some of the popular languages that Data Scientists use are:\n",
    "1. Python\n",
    "2. SQL \n",
    "3. R\n",
    "4. C++"
   ]
  },
  {
   "cell_type": "markdown",
   "id": "2f2d5615-539e-471f-91bb-6e9f76dd3384",
   "metadata": {},
   "source": [
    "#### Some of the commonly used libraries used by Data Scientists include:\n",
    "1. Numpy\n",
    "2. Pandas\n",
    "3. Seaborn\n",
    "4. SciPy"
   ]
  },
  {
   "cell_type": "markdown",
   "id": "c7c1a87a-9c09-4c03-956e-ce2fd0307e4b",
   "metadata": {},
   "source": [
    "| Data Science Tools | \n",
    "|--------------------|\n",
    "|Jupyter Notebooks|\n",
    "|RStudio|\n",
    "|Apache Zeppelin|"
   ]
  },
  {
   "cell_type": "markdown",
   "id": "4d7837af-b65e-4139-b000-fa6aa157b957",
   "metadata": {},
   "source": [
    "### Below are a few examples of evaluating arithmetic expressions in Python\n",
    "| Description | Expression |\n",
    "|-------------|------------|\n",
    "|Addition| result = 7 + 3|\n",
    "|Substraction| result = 7 - 3|\n",
    "|Multiplication | result = 7 * 3 | "
   ]
  },
  {
   "cell_type": "markdown",
   "id": "c953b460-eae9-4706-9b4d-e513e99662a4",
   "metadata": {},
   "source": [
    "#### This is a simple arithmetic expression to multiply then add integers (3 * 4) + 5"
   ]
  },
  {
   "cell_type": "code",
   "execution_count": 41,
   "id": "45394e4c-68da-4088-a74d-255f626c87bd",
   "metadata": {},
   "outputs": [
    {
     "name": "stdout",
     "output_type": "stream",
     "text": [
      "17\n"
     ]
    }
   ],
   "source": [
    "result = (3 * 4) + 5\n",
    "print (result)"
   ]
  },
  {
   "cell_type": "markdown",
   "id": "0b4989dd-40bd-49eb-96d9-6a4ef38d8732",
   "metadata": {},
   "source": [
    "##### This will convert 200 minutes to hours"
   ]
  },
  {
   "cell_type": "code",
   "execution_count": 38,
   "id": "90f2198d-4bbc-4349-83b9-d1c25434834f",
   "metadata": {},
   "outputs": [
    {
     "name": "stdout",
     "output_type": "stream",
     "text": [
      "3.3333333333333335\n"
     ]
    }
   ],
   "source": [
    "minutes =200\n",
    "hours = minutes / 60\n",
    "print(hours)"
   ]
  },
  {
   "cell_type": "markdown",
   "id": "272ae503-ccfc-40c4-86a3-2a6d7113576b",
   "metadata": {},
   "source": [
    "## Objectives:\n",
    "- List popular languages for data Science\n",
    "- List common libraries used by Data Scientists\n",
    "- List Data Science open source development tools\n",
    "- Examples of evaluating arithmetic expressions in Python"
   ]
  },
  {
   "cell_type": "markdown",
   "id": "71da3783-6987-4bc9-b75d-86a59dbd6f7f",
   "metadata": {},
   "source": [
    "## Author\n",
    "###### Hui Pui Yee"
   ]
  }
 ],
 "metadata": {
  "kernelspec": {
   "display_name": "Python [conda env:base] *",
   "language": "python",
   "name": "conda-base-py"
  },
  "language_info": {
   "codemirror_mode": {
    "name": "ipython",
    "version": 3
   },
   "file_extension": ".py",
   "mimetype": "text/x-python",
   "name": "python",
   "nbconvert_exporter": "python",
   "pygments_lexer": "ipython3",
   "version": "3.12.7"
  }
 },
 "nbformat": 4,
 "nbformat_minor": 5
}
